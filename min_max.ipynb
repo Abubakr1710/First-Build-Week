{
 "cells": [
  {
   "cell_type": "code",
   "execution_count": 25,
   "metadata": {},
   "outputs": [],
   "source": [
    "import numpy as np\n",
    "import pandas as pd"
   ]
  },
  {
   "cell_type": "code",
   "execution_count": 26,
   "metadata": {},
   "outputs": [
    {
     "data": {
      "text/html": [
       "<div>\n",
       "<style scoped>\n",
       "    .dataframe tbody tr th:only-of-type {\n",
       "        vertical-align: middle;\n",
       "    }\n",
       "\n",
       "    .dataframe tbody tr th {\n",
       "        vertical-align: top;\n",
       "    }\n",
       "\n",
       "    .dataframe thead th {\n",
       "        text-align: right;\n",
       "    }\n",
       "</style>\n",
       "<table border=\"1\" class=\"dataframe\">\n",
       "  <thead>\n",
       "    <tr style=\"text-align: right;\">\n",
       "      <th></th>\n",
       "      <th>Unnamed: 0</th>\n",
       "      <th>TITLE</th>\n",
       "      <th>AUTHOR</th>\n",
       "      <th>RATING</th>\n",
       "      <th>REVIEWERS</th>\n",
       "      <th>URL LINKS</th>\n",
       "    </tr>\n",
       "  </thead>\n",
       "  <tbody>\n",
       "    <tr>\n",
       "      <th>0</th>\n",
       "      <td>1</td>\n",
       "      <td>The Hunger Games (The Hunger Games, #1)</td>\n",
       "      <td>Suzanne Collins</td>\n",
       "      <td>4.32</td>\n",
       "      <td>7251682</td>\n",
       "      <td>https://www.goodreads.com/book/show/2767052-th...</td>\n",
       "    </tr>\n",
       "    <tr>\n",
       "      <th>1</th>\n",
       "      <td>2</td>\n",
       "      <td>Harry Potter and the Order of the Phoenix (Har...</td>\n",
       "      <td>J.K. Rowling</td>\n",
       "      <td>4.50</td>\n",
       "      <td>2881319</td>\n",
       "      <td>https://www.goodreads.com/book/show/2.Harry_Po...</td>\n",
       "    </tr>\n",
       "    <tr>\n",
       "      <th>2</th>\n",
       "      <td>3</td>\n",
       "      <td>To Kill a Mockingbird</td>\n",
       "      <td>Harper Lee</td>\n",
       "      <td>4.27</td>\n",
       "      <td>5174551</td>\n",
       "      <td>https://www.goodreads.com/book/show/2657.To_Ki...</td>\n",
       "    </tr>\n",
       "    <tr>\n",
       "      <th>3</th>\n",
       "      <td>4</td>\n",
       "      <td>Pride and Prejudice</td>\n",
       "      <td>Jane Austen</td>\n",
       "      <td>4.28</td>\n",
       "      <td>3523201</td>\n",
       "      <td>https://www.goodreads.com/book/show/1885.Pride...</td>\n",
       "    </tr>\n",
       "    <tr>\n",
       "      <th>4</th>\n",
       "      <td>5</td>\n",
       "      <td>The Book Thief</td>\n",
       "      <td>Markus Zusak</td>\n",
       "      <td>4.38</td>\n",
       "      <td>2130791</td>\n",
       "      <td>https://www.goodreads.com/book/show/19063.The_...</td>\n",
       "    </tr>\n",
       "  </tbody>\n",
       "</table>\n",
       "</div>"
      ],
      "text/plain": [
       "   Unnamed: 0                                              TITLE  \\\n",
       "0           1            The Hunger Games (The Hunger Games, #1)   \n",
       "1           2  Harry Potter and the Order of the Phoenix (Har...   \n",
       "2           3                              To Kill a Mockingbird   \n",
       "3           4                                Pride and Prejudice   \n",
       "4           5                                     The Book Thief   \n",
       "\n",
       "            AUTHOR  RATING  REVIEWERS  \\\n",
       "0  Suzanne Collins    4.32    7251682   \n",
       "1     J.K. Rowling    4.50    2881319   \n",
       "2       Harper Lee    4.27    5174551   \n",
       "3      Jane Austen    4.28    3523201   \n",
       "4     Markus Zusak    4.38    2130791   \n",
       "\n",
       "                                           URL LINKS  \n",
       "0  https://www.goodreads.com/book/show/2767052-th...  \n",
       "1  https://www.goodreads.com/book/show/2.Harry_Po...  \n",
       "2  https://www.goodreads.com/book/show/2657.To_Ki...  \n",
       "3  https://www.goodreads.com/book/show/1885.Pride...  \n",
       "4  https://www.goodreads.com/book/show/19063.The_...  "
      ]
     },
     "execution_count": 26,
     "metadata": {},
     "output_type": "execute_result"
    }
   ],
   "source": [
    "df = pd.read_csv('DATA.csv')\n",
    "df.head(5)"
   ]
  },
  {
   "cell_type": "code",
   "execution_count": 27,
   "metadata": {},
   "outputs": [
    {
     "data": {
      "text/plain": [
       "Unnamed: 0    0\n",
       "TITLE         0\n",
       "AUTHOR        0\n",
       "RATING        0\n",
       "REVIEWERS     0\n",
       "URL LINKS     0\n",
       "dtype: int64"
      ]
     },
     "execution_count": 27,
     "metadata": {},
     "output_type": "execute_result"
    }
   ],
   "source": [
    "df.isnull().sum()"
   ]
  },
  {
   "cell_type": "code",
   "execution_count": 28,
   "metadata": {},
   "outputs": [
    {
     "name": "stdout",
     "output_type": "stream",
     "text": [
      "RATING    float64\n",
      "dtype: object\n"
     ]
    }
   ],
   "source": [
    "ch = pd.DataFrame(df['RATING'])\n",
    "datatype = ch.dtypes\n",
    "print(datatype)"
   ]
  },
  {
   "cell_type": "markdown",
   "metadata": {},
   "source": [
    "## Min Max Normalization"
   ]
  },
  {
   "cell_type": "code",
   "execution_count": 29,
   "metadata": {},
   "outputs": [
    {
     "data": {
      "text/plain": [
       "0      6.225806\n",
       "1      7.270968\n",
       "2      5.935484\n",
       "3      5.993548\n",
       "4      6.574194\n",
       "         ...   \n",
       "995    5.470968\n",
       "996    4.367742\n",
       "997    5.238710\n",
       "998    3.554839\n",
       "999    2.509677\n",
       "Name: minmax_norm_ratings, Length: 1000, dtype: float64"
      ]
     },
     "execution_count": 29,
     "metadata": {},
     "output_type": "execute_result"
    }
   ],
   "source": [
    "df['minmax_norm_ratings'] = 1 + (df['RATING'] - df['RATING'].min()) / (df['RATING'].max() - df['RATING'].min())*9\n",
    "df['minmax_norm_ratings']"
   ]
  },
  {
   "cell_type": "markdown",
   "metadata": {},
   "source": [
    "## Mean Normalization"
   ]
  },
  {
   "cell_type": "code",
   "execution_count": 30,
   "metadata": {},
   "outputs": [
    {
     "data": {
      "text/plain": [
       "0      2.399761\n",
       "1      3.444923\n",
       "2      2.109439\n",
       "3      2.167503\n",
       "4      2.748148\n",
       "         ...   \n",
       "995    1.644923\n",
       "996    0.541697\n",
       "997    1.412665\n",
       "998   -0.271206\n",
       "999   -1.316368\n",
       "Name: mean_norm_rating, Length: 1000, dtype: float64"
      ]
     },
     "execution_count": 30,
     "metadata": {},
     "output_type": "execute_result"
    }
   ],
   "source": [
    "df['mean_norm_rating'] = 1 + ((df['RATING'] - df['RATING'].mean()) / (df['RATING'].max() - df['RATING'].min()))*9\n",
    "df['mean_norm_rating']"
   ]
  },
  {
   "cell_type": "code",
   "execution_count": 31,
   "metadata": {},
   "outputs": [
    {
     "data": {
      "text/html": [
       "<div>\n",
       "<style scoped>\n",
       "    .dataframe tbody tr th:only-of-type {\n",
       "        vertical-align: middle;\n",
       "    }\n",
       "\n",
       "    .dataframe tbody tr th {\n",
       "        vertical-align: top;\n",
       "    }\n",
       "\n",
       "    .dataframe thead th {\n",
       "        text-align: right;\n",
       "    }\n",
       "</style>\n",
       "<table border=\"1\" class=\"dataframe\">\n",
       "  <thead>\n",
       "    <tr style=\"text-align: right;\">\n",
       "      <th></th>\n",
       "      <th>Unnamed: 0</th>\n",
       "      <th>TITLE</th>\n",
       "      <th>AUTHOR</th>\n",
       "      <th>RATING</th>\n",
       "      <th>REVIEWERS</th>\n",
       "      <th>URL LINKS</th>\n",
       "      <th>minmax_norm_ratings</th>\n",
       "      <th>mean_norm_rating</th>\n",
       "    </tr>\n",
       "  </thead>\n",
       "  <tbody>\n",
       "    <tr>\n",
       "      <th>0</th>\n",
       "      <td>1</td>\n",
       "      <td>The Hunger Games (The Hunger Games, #1)</td>\n",
       "      <td>Suzanne Collins</td>\n",
       "      <td>4.32</td>\n",
       "      <td>7251682</td>\n",
       "      <td>https://www.goodreads.com/book/show/2767052-th...</td>\n",
       "      <td>6.225806</td>\n",
       "      <td>2.399761</td>\n",
       "    </tr>\n",
       "    <tr>\n",
       "      <th>1</th>\n",
       "      <td>2</td>\n",
       "      <td>Harry Potter and the Order of the Phoenix (Har...</td>\n",
       "      <td>J.K. Rowling</td>\n",
       "      <td>4.50</td>\n",
       "      <td>2881319</td>\n",
       "      <td>https://www.goodreads.com/book/show/2.Harry_Po...</td>\n",
       "      <td>7.270968</td>\n",
       "      <td>3.444923</td>\n",
       "    </tr>\n",
       "    <tr>\n",
       "      <th>2</th>\n",
       "      <td>3</td>\n",
       "      <td>To Kill a Mockingbird</td>\n",
       "      <td>Harper Lee</td>\n",
       "      <td>4.27</td>\n",
       "      <td>5174551</td>\n",
       "      <td>https://www.goodreads.com/book/show/2657.To_Ki...</td>\n",
       "      <td>5.935484</td>\n",
       "      <td>2.109439</td>\n",
       "    </tr>\n",
       "    <tr>\n",
       "      <th>3</th>\n",
       "      <td>4</td>\n",
       "      <td>Pride and Prejudice</td>\n",
       "      <td>Jane Austen</td>\n",
       "      <td>4.28</td>\n",
       "      <td>3523201</td>\n",
       "      <td>https://www.goodreads.com/book/show/1885.Pride...</td>\n",
       "      <td>5.993548</td>\n",
       "      <td>2.167503</td>\n",
       "    </tr>\n",
       "    <tr>\n",
       "      <th>4</th>\n",
       "      <td>5</td>\n",
       "      <td>The Book Thief</td>\n",
       "      <td>Markus Zusak</td>\n",
       "      <td>4.38</td>\n",
       "      <td>2130791</td>\n",
       "      <td>https://www.goodreads.com/book/show/19063.The_...</td>\n",
       "      <td>6.574194</td>\n",
       "      <td>2.748148</td>\n",
       "    </tr>\n",
       "    <tr>\n",
       "      <th>...</th>\n",
       "      <td>...</td>\n",
       "      <td>...</td>\n",
       "      <td>...</td>\n",
       "      <td>...</td>\n",
       "      <td>...</td>\n",
       "      <td>...</td>\n",
       "      <td>...</td>\n",
       "      <td>...</td>\n",
       "    </tr>\n",
       "    <tr>\n",
       "      <th>995</th>\n",
       "      <td>996</td>\n",
       "      <td>The Iron Queen (The Iron Fey, #3)</td>\n",
       "      <td>Julie Kagawa</td>\n",
       "      <td>4.19</td>\n",
       "      <td>103998</td>\n",
       "      <td>https://www.goodreads.com/book/show/8685612-th...</td>\n",
       "      <td>5.470968</td>\n",
       "      <td>1.644923</td>\n",
       "    </tr>\n",
       "    <tr>\n",
       "      <th>996</th>\n",
       "      <td>997</td>\n",
       "      <td>Nightshade (Nightshade, #1; Nightshade World, #4)</td>\n",
       "      <td>Andrea Cremer</td>\n",
       "      <td>4.00</td>\n",
       "      <td>84096</td>\n",
       "      <td>https://www.goodreads.com/book/show/7402393-ni...</td>\n",
       "      <td>4.367742</td>\n",
       "      <td>0.541697</td>\n",
       "    </tr>\n",
       "    <tr>\n",
       "      <th>997</th>\n",
       "      <td>998</td>\n",
       "      <td>Till We Have Faces</td>\n",
       "      <td>C.S. Lewis</td>\n",
       "      <td>4.15</td>\n",
       "      <td>61709</td>\n",
       "      <td>https://www.goodreads.com/book/show/17343.Till...</td>\n",
       "      <td>5.238710</td>\n",
       "      <td>1.412665</td>\n",
       "    </tr>\n",
       "    <tr>\n",
       "      <th>998</th>\n",
       "      <td>999</td>\n",
       "      <td>Journey to the Center of the Earth</td>\n",
       "      <td>Jules Verne</td>\n",
       "      <td>3.86</td>\n",
       "      <td>171939</td>\n",
       "      <td>https://www.goodreads.com/book/show/32829.Jour...</td>\n",
       "      <td>3.554839</td>\n",
       "      <td>-0.271206</td>\n",
       "    </tr>\n",
       "    <tr>\n",
       "      <th>999</th>\n",
       "      <td>1000</td>\n",
       "      <td>Tropic of Cancer (Tropic, #1)</td>\n",
       "      <td>Henry Miller</td>\n",
       "      <td>3.68</td>\n",
       "      <td>67132</td>\n",
       "      <td>https://www.goodreads.com/book/show/249.Tropic...</td>\n",
       "      <td>2.509677</td>\n",
       "      <td>-1.316368</td>\n",
       "    </tr>\n",
       "  </tbody>\n",
       "</table>\n",
       "<p>1000 rows × 8 columns</p>\n",
       "</div>"
      ],
      "text/plain": [
       "     Unnamed: 0                                              TITLE  \\\n",
       "0             1            The Hunger Games (The Hunger Games, #1)   \n",
       "1             2  Harry Potter and the Order of the Phoenix (Har...   \n",
       "2             3                              To Kill a Mockingbird   \n",
       "3             4                                Pride and Prejudice   \n",
       "4             5                                     The Book Thief   \n",
       "..          ...                                                ...   \n",
       "995         996                  The Iron Queen (The Iron Fey, #3)   \n",
       "996         997  Nightshade (Nightshade, #1; Nightshade World, #4)   \n",
       "997         998                                 Till We Have Faces   \n",
       "998         999                 Journey to the Center of the Earth   \n",
       "999        1000                      Tropic of Cancer (Tropic, #1)   \n",
       "\n",
       "              AUTHOR  RATING  REVIEWERS  \\\n",
       "0    Suzanne Collins    4.32    7251682   \n",
       "1       J.K. Rowling    4.50    2881319   \n",
       "2         Harper Lee    4.27    5174551   \n",
       "3        Jane Austen    4.28    3523201   \n",
       "4       Markus Zusak    4.38    2130791   \n",
       "..               ...     ...        ...   \n",
       "995     Julie Kagawa    4.19     103998   \n",
       "996    Andrea Cremer    4.00      84096   \n",
       "997       C.S. Lewis    4.15      61709   \n",
       "998      Jules Verne    3.86     171939   \n",
       "999     Henry Miller    3.68      67132   \n",
       "\n",
       "                                             URL LINKS  minmax_norm_ratings  \\\n",
       "0    https://www.goodreads.com/book/show/2767052-th...             6.225806   \n",
       "1    https://www.goodreads.com/book/show/2.Harry_Po...             7.270968   \n",
       "2    https://www.goodreads.com/book/show/2657.To_Ki...             5.935484   \n",
       "3    https://www.goodreads.com/book/show/1885.Pride...             5.993548   \n",
       "4    https://www.goodreads.com/book/show/19063.The_...             6.574194   \n",
       "..                                                 ...                  ...   \n",
       "995  https://www.goodreads.com/book/show/8685612-th...             5.470968   \n",
       "996  https://www.goodreads.com/book/show/7402393-ni...             4.367742   \n",
       "997  https://www.goodreads.com/book/show/17343.Till...             5.238710   \n",
       "998  https://www.goodreads.com/book/show/32829.Jour...             3.554839   \n",
       "999  https://www.goodreads.com/book/show/249.Tropic...             2.509677   \n",
       "\n",
       "     mean_norm_rating  \n",
       "0            2.399761  \n",
       "1            3.444923  \n",
       "2            2.109439  \n",
       "3            2.167503  \n",
       "4            2.748148  \n",
       "..                ...  \n",
       "995          1.644923  \n",
       "996          0.541697  \n",
       "997          1.412665  \n",
       "998         -0.271206  \n",
       "999         -1.316368  \n",
       "\n",
       "[1000 rows x 8 columns]"
      ]
     },
     "execution_count": 31,
     "metadata": {},
     "output_type": "execute_result"
    }
   ],
   "source": [
    "df"
   ]
  }
 ],
 "metadata": {
  "interpreter": {
   "hash": "bad655f8fbcebcabbf7b32c4cbc2da515229a2d8ae3d0e46a3c100de5d5e89ee"
  },
  "kernelspec": {
   "display_name": "Python 3.9.7 ('ai')",
   "language": "python",
   "name": "python3"
  },
  "language_info": {
   "codemirror_mode": {
    "name": "ipython",
    "version": 3
   },
   "file_extension": ".py",
   "mimetype": "text/x-python",
   "name": "python",
   "nbconvert_exporter": "python",
   "pygments_lexer": "ipython3",
   "version": "3.9.7"
  },
  "orig_nbformat": 4
 },
 "nbformat": 4,
 "nbformat_minor": 2
}
