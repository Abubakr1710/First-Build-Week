{
 "cells": [
  {
   "cell_type": "code",
   "execution_count": 1,
   "metadata": {},
   "outputs": [],
   "source": [
    "import requests\n",
    "from bs4 import BeautifulSoup\n",
    "from time import sleep\n"
   ]
  },
  {
   "cell_type": "code",
   "execution_count": 5,
   "metadata": {},
   "outputs": [],
   "source": [
    "website = requests.get('https://www.goodreads.com/book/show/30.J_R_R_Tolkien_4_Book_Boxed_Set')\n",
    "sleep(0.4)\n",
    "soup = BeautifulSoup(website.content, 'html.parser')\n",
    "sleep(0.2)\n",
    "awardsORIGINAL = soup.find('div', id='bookDataBox').get_text()\n"
   ]
  },
  {
   "cell_type": "code",
   "execution_count": 6,
   "metadata": {},
   "outputs": [
    {
     "data": {
      "text/plain": [
       "'\\n\\nISBN\\n\\n                  0345538374\\n                      (ISBN13: 9780345538376)\\n\\n\\n\\nEdition Language\\nEnglish\\n\\n\\nSeries\\n\\nThe Lord of the Rings #0-3 \\n\\n\\nCharacters\\n\\nFrodo Baggins, Gandalf, Bilbo Baggins, Gollum\\n\\n\\nSetting\\n\\nMiddle-earth\\n\\n\\n\\n\\n\\n\\nOther Editions (78)\\n\\n\\n\\n\\n\\n\\n\\n\\n\\n\\n\\n\\n\\n\\n\\n\\n\\n\\n\\n\\n\\n\\n\\n\\n\\n\\n\\n\\n\\n\\n\\n\\n\\n\\n\\nAll Editions\\n\\n | \\n\\nAdd a New Edition\\n\\n | \\n\\nCombine\\n\\n\\n'"
      ]
     },
     "execution_count": 6,
     "metadata": {},
     "output_type": "execute_result"
    }
   ],
   "source": [
    "awardsORIGINAL"
   ]
  },
  {
   "cell_type": "code",
   "execution_count": 8,
   "metadata": {},
   "outputs": [],
   "source": [
    "awards = awardsORIGINAL.split('Literary Awards')"
   ]
  },
  {
   "cell_type": "code",
   "execution_count": 9,
   "metadata": {},
   "outputs": [
    {
     "data": {
      "text/plain": [
       "['\\n\\nISBN\\n\\n                  0345538374\\n                      (ISBN13: 9780345538376)\\n\\n\\n\\nEdition Language\\nEnglish\\n\\n\\nSeries\\n\\nThe Lord of the Rings #0-3 \\n\\n\\nCharacters\\n\\nFrodo Baggins, Gandalf, Bilbo Baggins, Gollum\\n\\n\\nSetting\\n\\nMiddle-earth\\n\\n\\n\\n\\n\\n\\nOther Editions (78)\\n\\n\\n\\n\\n\\n\\n\\n\\n\\n\\n\\n\\n\\n\\n\\n\\n\\n\\n\\n\\n\\n\\n\\n\\n\\n\\n\\n\\n\\n\\n\\n\\n\\n\\n\\nAll Editions\\n\\n | \\n\\nAdd a New Edition\\n\\n | \\n\\nCombine\\n\\n\\n']"
      ]
     },
     "execution_count": 9,
     "metadata": {},
     "output_type": "execute_result"
    }
   ],
   "source": [
    "awards"
   ]
  },
  {
   "cell_type": "code",
   "execution_count": 13,
   "metadata": {},
   "outputs": [],
   "source": [
    "\n",
    "website = requests.get('https://www.goodreads.com/book/show/11870085-the-fault-in-our-stars')\n",
    "sleep(0.4)\n",
    "soup = BeautifulSoup(website.content, 'html.parser')\n",
    "sleep(0.2)\n",
    "awards_original = soup.find('div', id='bookDataBox').get_text()\n"
   ]
  },
  {
   "cell_type": "code",
   "execution_count": 14,
   "metadata": {},
   "outputs": [
    {
     "data": {
      "text/plain": [
       "\"\\n\\nOriginal Title\\nThe Fault in Our Stars\\n\\n\\nEdition Language\\nEnglish\\n\\n\\nCharacters\\n\\nHazel Grace Lancaster, Augustus Waters, Isaac\\n\\n\\nSetting\\n\\nIndianapolis, Indiana\\n\\n(United States)\\n\\n\\nAmsterdam\\n\\n(Netherlands)\\n\\n\\n\\n\\n\\nLiterary Awards\\n\\nGeorgia Peach Book Award (2013), Buxtehuder Bulle (2012), Odyssey Award (2013), Audie Award for Teens (2013), West Australian Young Readers' Book Award (WAYRBA) for Older Readers (2013)\\n...more\\nTeen Buckeye Book Award (2014), Pennsylvania Young Readers' Choice Award for Young Adults (2013), Rhode Island Teen Book Award (2014), Evergreen Teen Book Award (2015), Soaring Eagle Book Award (2014), Milwaukee County Teen Book Award (2013), Indies Choice Book Award for Young Adult (2013), Deutscher Jugendliteraturpreis for Preis der Jugendjury (2013), Amelia Elizabeth Walden Award (2013), Dioraphte Jongerenliteratuurprijs for vertaald boek en publieksprijs (2013), The Inky Awards for Silver Inky (2012), California Young Readers Medal for Young Adult (2015), Lincoln Award (2014), Luisterboek Award (2015), Goodreads Choice Award for Young Adult Fiction (2012) and Nominee for Best of the Best  (2018), Green Mountain Book Award (2014), The Inky Awards Shortlist for Silver Inky (2012), Louisiana Teen Readers' Choice (2015), Missouri Gateway Readers Award (2015), Oklahoma Sequoyah Award for High School (2015), Alabama Author Award for Young Adult (2013), Premio El Templo de las Mil Puertas for Mejor novela extranjera independiente (2012), FAB Award Nominee (2014), Premi Protagonista Jove for Categoria 15-16 anys (2013)\\n...less \\n\\n\\n\\n\\nOther Editions (308)\\n\\n\\n\\n\\n\\n\\n\\n\\n\\n\\n\\n\\n\\n\\n\\n\\n\\n\\n\\n\\n\\n\\n\\n\\n\\n\\n\\n\\n\\n\\n\\n\\n\\n\\n\\nAll Editions\\n\\n | \\n\\nAdd a New Edition\\n\\n | \\n\\nCombine\\n\\n\\n\""
      ]
     },
     "execution_count": 14,
     "metadata": {},
     "output_type": "execute_result"
    }
   ],
   "source": [
    "awards_original"
   ]
  },
  {
   "cell_type": "code",
   "execution_count": 15,
   "metadata": {},
   "outputs": [
    {
     "data": {
      "text/plain": [
       "\"\\n\\nGeorgia Peach Book Award (2013), Buxtehuder Bulle (2012), Odyssey Award (2013), Audie Award for Teens (2013), West Australian Young Readers' Book Award (WAYRBA) for Older Readers (2013)\\n...more\\nTeen Buckeye Book Award (2014), Pennsylvania Young Readers' Choice Award for Young Adults (2013), Rhode Island Teen Book Award (2014), Evergreen Teen Book Award (2015), Soaring Eagle Book Award (2014), Milwaukee County Teen Book Award (2013), Indies Choice Book Award for Young Adult (2013), Deutscher Jugendliteraturpreis for Preis der Jugendjury (2013), Amelia Elizabeth Walden Award (2013), Dioraphte Jongerenliteratuurprijs for vertaald boek en publieksprijs (2013), The Inky Awards for Silver Inky (2012), California Young Readers Medal for Young Adult (2015), Lincoln Award (2014), Luisterboek Award (2015), Goodreads Choice Award for Young Adult Fiction (2012) and Nominee for Best of the Best  (2018), Green Mountain Book Award (2014), The Inky Awards Shortlist for Silver Inky (2012), Louisiana Teen Readers' Choice (2015), Missouri Gateway Readers Award (2015), Oklahoma Sequoyah Award for High School (2015), Alabama Author Award for Young Adult (2013), Premio El Templo de las Mil Puertas for Mejor novela extranjera independiente (2012), FAB Award Nominee (2014), Premi Protagonista Jove for Categoria 15-16 anys (2013)\\n...less \\n\\n\\n\\n\\n\""
      ]
     },
     "execution_count": 15,
     "metadata": {},
     "output_type": "execute_result"
    }
   ],
   "source": [
    "actual_awards = awards_original.split('Literary Awards')[1].split(\"Other Editions\")[0]\n",
    "actual_awards"
   ]
  },
  {
   "cell_type": "code",
   "execution_count": null,
   "metadata": {},
   "outputs": [],
   "source": []
  }
 ],
 "metadata": {
  "interpreter": {
   "hash": "511f5f779e2631a2a5ab62f662bac40efa98ba034f0a10d52d91aa76b4930c87"
  },
  "kernelspec": {
   "display_name": "Python 3.8.12 ('Strivenew')",
   "language": "python",
   "name": "python3"
  },
  "language_info": {
   "codemirror_mode": {
    "name": "ipython",
    "version": 3
   },
   "file_extension": ".py",
   "mimetype": "text/x-python",
   "name": "python",
   "nbconvert_exporter": "python",
   "pygments_lexer": "ipython3",
   "version": "3.8.12"
  },
  "orig_nbformat": 4
 },
 "nbformat": 4,
 "nbformat_minor": 2
}
